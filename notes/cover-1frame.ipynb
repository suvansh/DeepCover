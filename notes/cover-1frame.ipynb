{
 "cells": [
  {
   "cell_type": "code",
   "execution_count": 1,
   "id": "5d7b7b77",
   "metadata": {
    "_execution_state": "idle",
    "_uuid": "051d70d956493feee0c6d64651c6a088724dca2a",
    "execution": {
     "iopub.execute_input": "2021-05-22T01:33:46.857846Z",
     "iopub.status.busy": "2021-05-22T01:33:46.855477Z",
     "iopub.status.idle": "2021-05-22T01:41:24.972006Z",
     "shell.execute_reply": "2021-05-22T01:41:24.972970Z"
    },
    "papermill": {
     "duration": 458.130971,
     "end_time": "2021-05-22T01:41:24.973398",
     "exception": false,
     "start_time": "2021-05-22T01:33:46.842427",
     "status": "completed"
    },
    "tags": []
   },
   "outputs": [
    {
     "name": "stderr",
     "output_type": "stream",
     "text": [
      "Installing package into ‘/usr/local/lib/R/site-library’\n",
      "(as ‘lib’ is unspecified)\n",
      "\n"
     ]
    },
    {
     "ename": "ERROR",
     "evalue": "Error in torch_manual_seed(2013): could not find function \"torch_manual_seed\"\n",
     "output_type": "error",
     "traceback": [
      "Error in torch_manual_seed(2013): could not find function \"torch_manual_seed\"\nTraceback:\n"
     ]
    }
   ],
   "source": [
    "# to get latest version\n",
    "install.packages(\"torch\")\n",
    "set.seed(2013)\n",
    "torch_manual_seed(2013)"
   ]
  },
  {
   "cell_type": "code",
   "execution_count": 2,
   "id": "b1b22ea5",
   "metadata": {
    "_execution_state": "idle",
    "_uuid": "051d70d956493feee0c6d64651c6a088724dca2a",
    "execution": {
     "iopub.execute_input": "2021-05-22T01:41:25.057076Z",
     "iopub.status.busy": "2021-05-22T01:41:25.017732Z",
     "iopub.status.idle": "2021-05-22T01:41:26.346725Z",
     "shell.execute_reply": "2021-05-22T01:41:26.345419Z"
    },
    "papermill": {
     "duration": 1.355123,
     "end_time": "2021-05-22T01:41:26.346946",
     "exception": false,
     "start_time": "2021-05-22T01:41:24.991823",
     "status": "completed"
    },
    "tags": []
   },
   "outputs": [
    {
     "name": "stderr",
     "output_type": "stream",
     "text": [
      "── \u001b[1mAttaching packages\u001b[22m ─────────────────────────────────────── tidyverse 1.3.0 ──\n",
      "\n",
      "\u001b[32m✔\u001b[39m \u001b[34mggplot2\u001b[39m 3.3.3     \u001b[32m✔\u001b[39m \u001b[34mpurrr  \u001b[39m 0.3.4\n",
      "\u001b[32m✔\u001b[39m \u001b[34mtibble \u001b[39m 3.1.1     \u001b[32m✔\u001b[39m \u001b[34mdplyr  \u001b[39m 1.0.5\n",
      "\u001b[32m✔\u001b[39m \u001b[34mtidyr  \u001b[39m 1.1.3     \u001b[32m✔\u001b[39m \u001b[34mstringr\u001b[39m 1.4.0\n",
      "\u001b[32m✔\u001b[39m \u001b[34mreadr  \u001b[39m 1.4.0     \u001b[32m✔\u001b[39m \u001b[34mforcats\u001b[39m 0.5.0\n",
      "\n",
      "── \u001b[1mConflicts\u001b[22m ────────────────────────────────────────── tidyverse_conflicts() ──\n",
      "\u001b[31m✖\u001b[39m \u001b[34mdplyr\u001b[39m::\u001b[32mfilter()\u001b[39m masks \u001b[34mstats\u001b[39m::filter()\n",
      "\u001b[31m✖\u001b[39m \u001b[34mdplyr\u001b[39m::\u001b[32mlag()\u001b[39m    masks \u001b[34mstats\u001b[39m::lag()\n",
      "\n"
     ]
    }
   ],
   "source": [
    "library(tidyverse) # metapackage of all tidyverse packages\n",
    "library(torch)\n",
    "# Input data files are available in the read-only \"../input/\" directory\n",
    "# For example, running this (by clicking run or pressing Shift+Enter) will list all files under the input directory"
   ]
  },
  {
   "cell_type": "code",
   "execution_count": 3,
   "id": "f8507d21",
   "metadata": {
    "_execution_state": "idle",
    "_uuid": "051d70d956493feee0c6d64651c6a088724dca2a",
    "execution": {
     "iopub.execute_input": "2021-05-22T01:41:26.371776Z",
     "iopub.status.busy": "2021-05-22T01:41:26.369944Z",
     "iopub.status.idle": "2021-05-22T01:41:26.408153Z",
     "shell.execute_reply": "2021-05-22T01:41:26.406783Z"
    },
    "papermill": {
     "duration": 0.051126,
     "end_time": "2021-05-22T01:41:26.408339",
     "exception": false,
     "start_time": "2021-05-22T01:41:26.357213",
     "status": "completed"
    },
    "tags": []
   },
   "outputs": [
    {
     "data": {
      "text/html": [
       "<style>\n",
       ".list-inline {list-style: none; margin:0; padding: 0}\n",
       ".list-inline>li {display: inline-block}\n",
       ".list-inline>li:not(:last-child)::after {content: \"\\00b7\"; padding: 0 .5ex}\n",
       "</style>\n",
       "<ol class=list-inline><li>'data_sizes_one_frame.rds'</li><li>'train_x_one_frame.pt'</li><li>'train_y_one_frame.pt'</li></ol>\n"
      ],
      "text/latex": [
       "\\begin{enumerate*}\n",
       "\\item 'data\\_sizes\\_one\\_frame.rds'\n",
       "\\item 'train\\_x\\_one\\_frame.pt'\n",
       "\\item 'train\\_y\\_one\\_frame.pt'\n",
       "\\end{enumerate*}\n"
      ],
      "text/markdown": [
       "1. 'data_sizes_one_frame.rds'\n",
       "2. 'train_x_one_frame.pt'\n",
       "3. 'train_y_one_frame.pt'\n",
       "\n",
       "\n"
      ],
      "text/plain": [
       "[1] \"data_sizes_one_frame.rds\" \"train_x_one_frame.pt\"    \n",
       "[3] \"train_y_one_frame.pt\"    "
      ]
     },
     "metadata": {},
     "output_type": "display_data"
    },
    {
     "data": {
      "text/html": [
       "'/kaggle/working'"
      ],
      "text/latex": [
       "'/kaggle/working'"
      ],
      "text/markdown": [
       "'/kaggle/working'"
      ],
      "text/plain": [
       "[1] \"/kaggle/working\""
      ]
     },
     "metadata": {},
     "output_type": "display_data"
    }
   ],
   "source": [
    "# You can write up to 20GB to the current directory (/kaggle/working/) that gets preserved as output when you create a version using \"Save & Run All\" \n",
    "list.files(path = \"../input/traindata\")\n",
    "getwd()\n",
    "\n",
    "# for deciding whether to augment data\n",
    "augment = TRUE"
   ]
  },
  {
   "cell_type": "code",
   "execution_count": 4,
   "id": "158bd162",
   "metadata": {
    "_execution_state": "idle",
    "_uuid": "051d70d956493feee0c6d64651c6a088724dca2a",
    "execution": {
     "iopub.execute_input": "2021-05-22T01:41:26.433852Z",
     "iopub.status.busy": "2021-05-22T01:41:26.432376Z",
     "iopub.status.idle": "2021-05-22T01:41:26.521590Z",
     "shell.execute_reply": "2021-05-22T01:41:26.520278Z"
    },
    "papermill": {
     "duration": 0.102643,
     "end_time": "2021-05-22T01:41:26.521713",
     "exception": false,
     "start_time": "2021-05-22T01:41:26.419070",
     "status": "completed"
    },
    "tags": []
   },
   "outputs": [
    {
     "data": {
      "text/plain": [
       "[1] ‘0.3.0’"
      ]
     },
     "metadata": {},
     "output_type": "display_data"
    },
    {
     "data": {
      "text/html": [
       "'cuda'"
      ],
      "text/latex": [
       "'cuda'"
      ],
      "text/markdown": [
       "'cuda'"
      ],
      "text/plain": [
       "[1] \"cuda\""
      ]
     },
     "metadata": {},
     "output_type": "display_data"
    }
   ],
   "source": [
    "packageVersion(\"torch\")\n",
    "device <- if(cuda_is_available()) \"cuda\" else \"cpu\"\n",
    "device"
   ]
  },
  {
   "cell_type": "markdown",
   "id": "61272702",
   "metadata": {
    "papermill": {
     "duration": 0.011989,
     "end_time": "2021-05-22T01:41:26.545466",
     "exception": false,
     "start_time": "2021-05-22T01:41:26.533477",
     "status": "completed"
    },
    "tags": []
   },
   "source": [
    "## Define dataloader and model architecture"
   ]
  },
  {
   "cell_type": "code",
   "execution_count": 5,
   "id": "ba868f3f",
   "metadata": {
    "execution": {
     "iopub.execute_input": "2021-05-22T01:41:26.573756Z",
     "iopub.status.busy": "2021-05-22T01:41:26.572118Z",
     "iopub.status.idle": "2021-05-22T01:41:26.586536Z",
     "shell.execute_reply": "2021-05-22T01:41:26.585139Z"
    },
    "papermill": {
     "duration": 0.029313,
     "end_time": "2021-05-22T01:41:26.586646",
     "exception": false,
     "start_time": "2021-05-22T01:41:26.557333",
     "status": "completed"
    },
    "tags": []
   },
   "outputs": [],
   "source": [
    "# define dataloader\n",
    "tracking_dataset <- dataset(\n",
    "  name = \"tracking_dataset\",\n",
    "  \n",
    "  initialize = function(x_tensor, y_tensor) {\n",
    "    \n",
    "    self$data_x <- x_tensor\n",
    "    self$data_y <- y_tensor\n",
    "    \n",
    "  },\n",
    "  \n",
    "  .getitem = function(i) {\n",
    "    list(self$data_x[i,], self$data_y[i])\n",
    "  },\n",
    "  \n",
    "  .length = function() {\n",
    "    self$data_y$size()[[1]]\n",
    "  }\n",
    ")"
   ]
  },
  {
   "cell_type": "code",
   "execution_count": 6,
   "id": "aeb64292",
   "metadata": {
    "_kg_hide-input": false,
    "execution": {
     "iopub.execute_input": "2021-05-22T01:41:26.615438Z",
     "iopub.status.busy": "2021-05-22T01:41:26.613765Z",
     "iopub.status.idle": "2021-05-22T01:41:26.626163Z",
     "shell.execute_reply": "2021-05-22T01:41:26.624811Z"
    },
    "papermill": {
     "duration": 0.027846,
     "end_time": "2021-05-22T01:41:26.626299",
     "exception": false,
     "start_time": "2021-05-22T01:41:26.598453",
     "status": "completed"
    },
    "tags": []
   },
   "outputs": [],
   "source": [
    "# define model\n",
    "net <- nn_module(\n",
    "  \"Net\",\n",
    "  \n",
    "  initialize = function() {\n",
    "    \n",
    "    self$conv_block_1 <- nn_sequential(\n",
    "      nn_conv2d(\n",
    "        in_channels = input_channels,\n",
    "        out_channels = 128,\n",
    "        kernel_size = 1\n",
    "      ),\n",
    "      nn_relu(inplace = TRUE),\n",
    "      nn_conv2d(\n",
    "        in_channels = 128,\n",
    "        out_channels = 160,\n",
    "        kernel_size = 1\n",
    "      ),\n",
    "      nn_relu(inplace = TRUE),\n",
    "      nn_conv2d(\n",
    "        in_channels = 160,\n",
    "        out_channels = 128,\n",
    "        kernel_size = 1\n",
    "      ),\n",
    "      nn_relu(inplace = TRUE),\n",
    "    )\n",
    "    \n",
    "    self$conv_block_2 <- nn_sequential(\n",
    "      nn_batch_norm1d(128),\n",
    "      nn_conv1d(\n",
    "        in_channels = 128,\n",
    "        out_channels = 160,\n",
    "        kernel_size = 1\n",
    "      ),\n",
    "      nn_relu(inplace = TRUE),\n",
    "      nn_batch_norm1d(160),\n",
    "      nn_conv1d(\n",
    "        in_channels = 160,\n",
    "        out_channels = 96,\n",
    "        kernel_size = 1\n",
    "      ),\n",
    "      nn_relu(inplace = TRUE),\n",
    "      nn_batch_norm1d(96),\n",
    "      nn_conv1d(\n",
    "        in_channels = 96,\n",
    "        out_channels = 96,\n",
    "        kernel_size = 1\n",
    "      ),\n",
    "      nn_relu(inplace = TRUE),\n",
    "      nn_batch_norm1d(96)\n",
    "    )\n",
    "    \n",
    "    self$linear_block <- nn_sequential(\n",
    "      nn_linear(96, 96),\n",
    "      nn_relu(inplace = TRUE),\n",
    "      nn_batch_norm1d(96),\n",
    "      \n",
    "      nn_linear(96, 256),\n",
    "      nn_relu(inplace = TRUE),\n",
    "      nn_batch_norm1d(256),\n",
    "      \n",
    "      # breaks\n",
    "      # nn_layer_norm(256),\n",
    "      nn_dropout(p = 0.3),\n",
    "      \n",
    "      nn_linear(256, 9)\n",
    "      \n",
    "      # nn_softmax(2)\n",
    "    )\n",
    "    \n",
    "  },\n",
    "  \n",
    "  forward = function(x) {\n",
    "    \n",
    "    # first conv layer\n",
    "    x <- self$conv_block_1(x)\n",
    "    \n",
    "    # first pool layer\n",
    "    avg <- nn_avg_pool2d(kernel_size = c(1, 5))(x) %>%\n",
    "      torch_squeeze(-1)\n",
    "    max <- nn_max_pool2d(kernel_size = c(1, 5))(x) %>%\n",
    "      torch_squeeze(-1)\n",
    "    \n",
    "    x <- 0.7 * avg + 0.3 * max\n",
    "    \n",
    "    # second conv layer\n",
    "    x <- self$conv_block_2(x)\n",
    "    \n",
    "    # second pool layer\n",
    "    avg <- nn_avg_pool1d(kernel_size = 11)(x) %>%\n",
    "      torch_squeeze(-1)\n",
    "    max <- nn_max_pool1d(kernel_size = 11)(x) %>%\n",
    "      torch_squeeze(-1)\n",
    "    \n",
    "    x <- 0.7 * avg + 0.3 * max\n",
    "    \n",
    "    x <- self$linear_block(x)\n",
    "    \n",
    "    x\n",
    "    \n",
    "  }\n",
    ")"
   ]
  },
  {
   "cell_type": "code",
   "execution_count": 7,
   "id": "93b034e6",
   "metadata": {
    "execution": {
     "iopub.execute_input": "2021-05-22T01:41:26.654762Z",
     "iopub.status.busy": "2021-05-22T01:41:26.653162Z",
     "iopub.status.idle": "2021-05-22T01:41:26.663475Z",
     "shell.execute_reply": "2021-05-22T01:41:26.662139Z"
    },
    "papermill": {
     "duration": 0.025579,
     "end_time": "2021-05-22T01:41:26.663581",
     "exception": false,
     "start_time": "2021-05-22T01:41:26.638002",
     "status": "completed"
    },
    "tags": []
   },
   "outputs": [],
   "source": [
    "augment_data <- function(df, flip_indices, subtract_indices) {\n",
    "  \n",
    "  # indices of the elements that need to be flipped\n",
    "  t <- torch_ones_like(df)\n",
    "  t[, flip_indices, , ] <- -1\n",
    "  \n",
    "  # first fix: multiply by -1 where needed\n",
    "  flipped <- df * t\n",
    "  \n",
    "  # now flip y coordinates: 2nd feature dimension\n",
    "  t <- torch_zeros_like(df)\n",
    "  t[, subtract_indices, , ] <- 160/3\n",
    "  \n",
    "  # flip around y\n",
    "  flipped[, subtract_indices, , ] <- t[, subtract_indices, , ] - flipped[, subtract_indices, , ]\n",
    "  \n",
    "  return(flipped)\n",
    "  \n",
    "}"
   ]
  },
  {
   "cell_type": "markdown",
   "id": "59f15721",
   "metadata": {
    "papermill": {
     "duration": 0.012086,
     "end_time": "2021-05-22T01:41:26.688038",
     "exception": false,
     "start_time": "2021-05-22T01:41:26.675952",
     "status": "completed"
    },
    "tags": []
   },
   "source": [
    "## Load and prepare data"
   ]
  },
  {
   "cell_type": "code",
   "execution_count": 8,
   "id": "9ce7ddbe",
   "metadata": {
    "execution": {
     "iopub.execute_input": "2021-05-22T01:41:26.716719Z",
     "iopub.status.busy": "2021-05-22T01:41:26.714999Z",
     "iopub.status.idle": "2021-05-22T01:41:28.150917Z",
     "shell.execute_reply": "2021-05-22T01:41:28.149010Z"
    },
    "jupyter": {
     "source_hidden": true
    },
    "papermill": {
     "duration": 1.451187,
     "end_time": "2021-05-22T01:41:28.151040",
     "exception": false,
     "start_time": "2021-05-22T01:41:26.699853",
     "status": "completed"
    },
    "tags": []
   },
   "outputs": [
    {
     "data": {
      "text/html": [
       "884"
      ],
      "text/latex": [
       "884"
      ],
      "text/markdown": [
       "884"
      ],
      "text/plain": [
       "[1] 884"
      ]
     },
     "metadata": {},
     "output_type": "display_data"
    },
    {
     "data": {
      "text/html": [
       "16065"
      ],
      "text/latex": [
       "16065"
      ],
      "text/markdown": [
       "16065"
      ],
      "text/plain": [
       "[1] 16065"
      ]
     },
     "metadata": {},
     "output_type": "display_data"
    },
    {
     "data": {
      "text/html": [
       "13"
      ],
      "text/latex": [
       "13"
      ],
      "text/markdown": [
       "13"
      ],
      "text/plain": [
       "[1] 13"
      ]
     },
     "metadata": {},
     "output_type": "display_data"
    },
    {
     "data": {
      "text/html": [
       "<style>\n",
       ".list-inline {list-style: none; margin:0; padding: 0}\n",
       ".list-inline>li {display: inline-block}\n",
       ".list-inline>li:not(:last-child)::after {content: \"\\00b7\"; padding: 0 .5ex}\n",
       "</style>\n",
       "<ol class=list-inline><li>16065</li><li>13</li><li>11</li><li>5</li></ol>\n"
      ],
      "text/latex": [
       "\\begin{enumerate*}\n",
       "\\item 16065\n",
       "\\item 13\n",
       "\\item 11\n",
       "\\item 5\n",
       "\\end{enumerate*}\n"
      ],
      "text/markdown": [
       "1. 16065\n",
       "2. 13\n",
       "3. 11\n",
       "4. 5\n",
       "\n",
       "\n"
      ],
      "text/plain": [
       "[1] 16065    13    11     5"
      ]
     },
     "metadata": {},
     "output_type": "display_data"
    },
    {
     "data": {
      "text/html": [
       "16065"
      ],
      "text/latex": [
       "16065"
      ],
      "text/markdown": [
       "16065"
      ],
      "text/plain": [
       "[1] 16065"
      ]
     },
     "metadata": {},
     "output_type": "display_data"
    },
    {
     "data": {
      "text/html": [
       "24290"
      ],
      "text/latex": [
       "24290"
      ],
      "text/markdown": [
       "24290"
      ],
      "text/plain": [
       "[1] 24290"
      ]
     },
     "metadata": {},
     "output_type": "display_data"
    }
   ],
   "source": [
    "# get tensors\n",
    "train_x <- torch_load(\"../input/traindata/train_x_one_frame.pt\")\n",
    "train_y <- torch_load(\"../input/traindata/train_y_one_frame.pt\")\n",
    "\n",
    "# get pre-saved lengths\n",
    "lengths <- readRDS(\"../input/traindata/data_sizes_one_frame.rds\")\n",
    "\n",
    "test_length <- lengths$test_length\n",
    "plays <- lengths$plays\n",
    "\n",
    "input_channels <- dim(train_x)[2]\n",
    "\n",
    "test_length\n",
    "plays\n",
    "\n",
    "input_channels\n",
    "\n",
    "# right now we have tensors for train_x and train_y that also include test data (week 1)\n",
    "dim(train_x)\n",
    "dim(train_y)\n",
    "\n",
    "# split into test and train\n",
    "test_x <- train_x[1:test_length, , ]\n",
    "train_x <- train_x[(test_length + 1) : plays, , ]\n",
    "\n",
    "test_y <- train_y[1:test_length]\n",
    "train_y <- train_y[(test_length + 1) : plays]\n",
    "\n",
    "# make plays the length of train data \n",
    "plays <- dim(train_y)\n",
    "\n",
    "# split into train and validation\n",
    "train_id <- sample(1:plays, ceiling(0.80 * plays))\n",
    "valid_id <- setdiff(1:plays, train_id)\n",
    "\n",
    "train_data <- train_x[train_id, , , ]\n",
    "train_label <- train_y[train_id]\n",
    "\n",
    "# if you want to augment with flipped data\n",
    "if (augment) {\n",
    "  \n",
    "  dim(train_data)\n",
    "  train_data_augmented <- augment_data(train_data, c(4, 6, 9, 11, 13), c(2))\n",
    "  \n",
    "  train_data <- torch_cat(list(train_data, train_data_augmented))\n",
    "  train_label <- torch_cat(list(train_label, train_label))\n",
    "  \n",
    "  dim(train_data)\n",
    "  dim(train_label)\n",
    "}\n",
    "\n",
    "# use dataloaders for train and validation\n",
    "train_ds <- tracking_dataset(train_data, train_label)\n",
    "valid_ds <- tracking_dataset(train_x[valid_id, , , ], train_y[valid_id])\n",
    "\n",
    "# Dataloaders\n",
    "train_dl <- train_ds %>%\n",
    "  dataloader(batch_size = 64, shuffle = TRUE)\n",
    "\n",
    "valid_dl <- valid_ds %>%\n",
    "  dataloader(batch_size = 64, shuffle = FALSE)"
   ]
  },
  {
   "cell_type": "code",
   "execution_count": 9,
   "id": "22f6a75f",
   "metadata": {
    "execution": {
     "iopub.execute_input": "2021-05-22T01:41:28.186614Z",
     "iopub.status.busy": "2021-05-22T01:41:28.185098Z",
     "iopub.status.idle": "2021-05-22T01:41:28.202622Z",
     "shell.execute_reply": "2021-05-22T01:41:28.201378Z"
    },
    "papermill": {
     "duration": 0.03592,
     "end_time": "2021-05-22T01:41:28.202728",
     "exception": false,
     "start_time": "2021-05-22T01:41:28.166808",
     "status": "completed"
    },
    "tags": []
   },
   "outputs": [
    {
     "data": {
      "text/html": [
       "<style>\n",
       ".list-inline {list-style: none; margin:0; padding: 0}\n",
       ".list-inline>li {display: inline-block}\n",
       ".list-inline>li:not(:last-child)::after {content: \"\\00b7\"; padding: 0 .5ex}\n",
       "</style>\n",
       "<ol class=list-inline><li>24290</li><li>13</li><li>11</li><li>5</li></ol>\n"
      ],
      "text/latex": [
       "\\begin{enumerate*}\n",
       "\\item 24290\n",
       "\\item 13\n",
       "\\item 11\n",
       "\\item 5\n",
       "\\end{enumerate*}\n"
      ],
      "text/markdown": [
       "1. 24290\n",
       "2. 13\n",
       "3. 11\n",
       "4. 5\n",
       "\n",
       "\n"
      ],
      "text/plain": [
       "[1] 24290    13    11     5"
      ]
     },
     "metadata": {},
     "output_type": "display_data"
    },
    {
     "data": {
      "text/html": [
       "24290"
      ],
      "text/latex": [
       "24290"
      ],
      "text/markdown": [
       "24290"
      ],
      "text/plain": [
       "[1] 24290"
      ]
     },
     "metadata": {},
     "output_type": "display_data"
    }
   ],
   "source": [
    "dim(train_data)\n",
    "dim(train_label)"
   ]
  },
  {
   "cell_type": "code",
   "execution_count": 10,
   "id": "0f0c9946",
   "metadata": {
    "execution": {
     "iopub.execute_input": "2021-05-22T01:41:28.239357Z",
     "iopub.status.busy": "2021-05-22T01:41:28.237773Z",
     "iopub.status.idle": "2021-05-22T01:41:30.849861Z",
     "shell.execute_reply": "2021-05-22T01:41:30.848744Z"
    },
    "papermill": {
     "duration": 2.631121,
     "end_time": "2021-05-22T01:41:30.849995",
     "exception": false,
     "start_time": "2021-05-22T01:41:28.218874",
     "status": "completed"
    },
    "tags": []
   },
   "outputs": [],
   "source": [
    "model <- net()\n",
    "model$to(device = device)\n",
    "\n",
    "optimizer <- optim_adam(model$parameters, lr = 0.001)\n",
    "\n",
    "# decay by about 50% after 15 epochs\n",
    "scheduler <- lr_step(optimizer, step_size = 1, 0.975)\n",
    "\n",
    "best_accuracy <- .6"
   ]
  },
  {
   "cell_type": "code",
   "execution_count": 11,
   "id": "ef871a3b",
   "metadata": {
    "execution": {
     "iopub.execute_input": "2021-05-22T01:41:30.888310Z",
     "iopub.status.busy": "2021-05-22T01:41:30.886638Z",
     "iopub.status.idle": "2021-05-22T01:53:04.339883Z",
     "shell.execute_reply": "2021-05-22T01:53:04.335094Z"
    },
    "papermill": {
     "duration": 693.473068,
     "end_time": "2021-05-22T01:53:04.340150",
     "exception": false,
     "start_time": "2021-05-22T01:41:30.867082",
     "status": "completed"
    },
    "tags": []
   },
   "outputs": [
    {
     "name": "stdout",
     "output_type": "stream",
     "text": [
      "\n",
      "Loss at epoch 1: training: 0.8553, validation: 0.6190, validation accuracy 0.7712"
     ]
    },
    {
     "name": "stderr",
     "output_type": "stream",
     "text": [
      "New best accuracy at epoch 1. Saving model\n",
      "\n"
     ]
    },
    {
     "name": "stdout",
     "output_type": "stream",
     "text": [
      "\n",
      "Loss at epoch 2: training: 0.5876, validation: 0.5987, validation accuracy 0.7827"
     ]
    },
    {
     "name": "stderr",
     "output_type": "stream",
     "text": [
      "New best accuracy at epoch 2. Saving model\n",
      "\n"
     ]
    },
    {
     "name": "stdout",
     "output_type": "stream",
     "text": [
      "\n",
      "Loss at epoch 3: training: 0.5187, validation: 0.4976, validation accuracy 0.8245"
     ]
    },
    {
     "name": "stderr",
     "output_type": "stream",
     "text": [
      "New best accuracy at epoch 3. Saving model\n",
      "\n"
     ]
    },
    {
     "name": "stdout",
     "output_type": "stream",
     "text": [
      "\n",
      "Loss at epoch 4: training: 0.4924, validation: 0.4954, validation accuracy 0.8235\n",
      "Loss at epoch 5: training: 0.4698, validation: 0.4760, validation accuracy 0.8229\n",
      "Loss at epoch 6: training: 0.4451, validation: 0.4376, validation accuracy 0.8394"
     ]
    },
    {
     "name": "stderr",
     "output_type": "stream",
     "text": [
      "New best accuracy at epoch 6. Saving model\n",
      "\n"
     ]
    },
    {
     "name": "stdout",
     "output_type": "stream",
     "text": [
      "\n",
      "Loss at epoch 7: training: 0.4263, validation: 0.4513, validation accuracy 0.8302\n",
      "Loss at epoch 8: training: 0.4167, validation: 0.4506, validation accuracy 0.8336\n",
      "Loss at epoch 9: training: 0.4052, validation: 0.5681, validation accuracy 0.7970\n",
      "Loss at epoch 10: training: 0.3947, validation: 0.4344, validation accuracy 0.8438"
     ]
    },
    {
     "name": "stderr",
     "output_type": "stream",
     "text": [
      "New best accuracy at epoch 10. Saving model\n",
      "\n"
     ]
    },
    {
     "name": "stdout",
     "output_type": "stream",
     "text": [
      "\n",
      "Loss at epoch 11: training: 0.3842, validation: 0.4219, validation accuracy 0.8469"
     ]
    },
    {
     "name": "stderr",
     "output_type": "stream",
     "text": [
      "New best accuracy at epoch 11. Saving model\n",
      "\n"
     ]
    },
    {
     "name": "stdout",
     "output_type": "stream",
     "text": [
      "\n",
      "Loss at epoch 12: training: 0.3784, validation: 0.4319, validation accuracy 0.8444\n",
      "Loss at epoch 13: training: 0.3683, validation: 0.4361, validation accuracy 0.8400\n",
      "Loss at epoch 14: training: 0.3649, validation: 0.4303, validation accuracy 0.8420\n",
      "Loss at epoch 15: training: 0.3525, validation: 0.4553, validation accuracy 0.8404\n",
      "Loss at epoch 16: training: 0.3462, validation: 0.4300, validation accuracy 0.8510"
     ]
    },
    {
     "name": "stderr",
     "output_type": "stream",
     "text": [
      "New best accuracy at epoch 16. Saving model\n",
      "\n"
     ]
    },
    {
     "name": "stdout",
     "output_type": "stream",
     "text": [
      "\n",
      "Loss at epoch 17: training: 0.3349, validation: 0.4035, validation accuracy 0.8578"
     ]
    },
    {
     "name": "stderr",
     "output_type": "stream",
     "text": [
      "New best accuracy at epoch 17. Saving model\n",
      "\n"
     ]
    },
    {
     "name": "stdout",
     "output_type": "stream",
     "text": [
      "\n",
      "Loss at epoch 18: training: 0.3358, validation: 0.4240, validation accuracy 0.8486\n",
      "Loss at epoch 19: training: 0.3293, validation: 0.4297, validation accuracy 0.8432\n",
      "Loss at epoch 20: training: 0.3254, validation: 0.4309, validation accuracy 0.8479\n",
      "Loss at epoch 21: training: 0.3118, validation: 0.4288, validation accuracy 0.8488\n",
      "Loss at epoch 22: training: 0.3120, validation: 0.4459, validation accuracy 0.8440\n",
      "Loss at epoch 23: training: 0.3006, validation: 0.4613, validation accuracy 0.8368\n",
      "Loss at epoch 24: training: 0.2899, validation: 0.4380, validation accuracy 0.8458\n",
      "Loss at epoch 25: training: 0.2904, validation: 0.4292, validation accuracy 0.8509"
     ]
    }
   ],
   "source": [
    "epochs <- 25\n",
    "for (epoch in 1:epochs) {\n",
    "  \n",
    "  train_losses <- c()\n",
    "  valid_losses <- c()\n",
    "  valid_accuracies <- c()\n",
    "\n",
    "  # train step\n",
    "  model$train()\n",
    "  for (b in enumerate(train_dl)) {\n",
    "    optimizer$zero_grad()      \n",
    "    loss <- nnf_cross_entropy(model(b[[1]]$to(device = device)), b[[2]]$to(device = device))\n",
    "    loss$backward()\n",
    "    optimizer$step()\n",
    "    train_losses <- c(train_losses, loss$item())\n",
    "  }\n",
    "  \n",
    "  # validation step\n",
    "  model$eval()\n",
    "  for (b in enumerate(valid_dl)) {\n",
    "    output <- model(b[[1]]$to(device = device))\n",
    "    y <- b[[2]]$to(device = device)\n",
    "                    \n",
    "    valid_losses <- c(valid_losses, nnf_cross_entropy(output, y)$item())\n",
    "       \n",
    "    pred <- torch_max(output, dim = 2)[[2]]\n",
    "    correct <- (pred == y)$sum()$item()\n",
    "    valid_accuracies <- c(valid_accuracies, correct/length(y))\n",
    "  }\n",
    "    \n",
    "  scheduler$step()\n",
    "    \n",
    "  cat(sprintf(\"\\nLoss at epoch %d: training: %1.4f, validation: %1.4f, validation accuracy %1.4f\", epoch, mean(train_losses), mean(valid_losses), mean(valid_accuracies)))  \n",
    "  # who knows if this does anything\n",
    "  gc()\n",
    "    \n",
    "      if (mean(valid_accuracies) > best_accuracy) {\n",
    "          message(glue::glue(\"New best accuracy at epoch {epoch}. Saving model\"))\n",
    "          # move to cpu for saving\n",
    "          \n",
    "          torch_save(model, \"model.pt\")\n",
    "     \n",
    "          # save new best loss\n",
    "          best_accuracy <- mean(valid_accuracies)\n",
    "          best_epoch <- epoch\n",
    "      \n",
    "      }\n",
    "}\n",
    "\n",
    "# move to cpu for saving\n",
    "model$to(device = \"cpu\")\n",
    "torch_save(model, \"final_model.pt\") \n",
    "\n",
    "# put back\n",
    "model$to(device = device)"
   ]
  },
  {
   "cell_type": "code",
   "execution_count": 12,
   "id": "7570cf9f",
   "metadata": {
    "execution": {
     "iopub.execute_input": "2021-05-22T01:53:04.431588Z",
     "iopub.status.busy": "2021-05-22T01:53:04.429909Z",
     "iopub.status.idle": "2021-05-22T01:53:05.039637Z",
     "shell.execute_reply": "2021-05-22T01:53:05.037879Z"
    },
    "papermill": {
     "duration": 0.655057,
     "end_time": "2021-05-22T01:53:05.039956",
     "exception": false,
     "start_time": "2021-05-22T01:53:04.384899",
     "status": "completed"
    },
    "tags": []
   },
   "outputs": [
    {
     "name": "stderr",
     "output_type": "stream",
     "text": [
      "Warning message:\n",
      "“The `x` argument of `as_tibble.matrix()` must have unique column names if `.name_repair` is omitted as of tibble 2.0.0.\n",
      "Using compatibility `.name_repair`.\n",
      "\u001b[90mThis warning is displayed once every 8 hours.\u001b[39m\n",
      "\u001b[90mCall `lifecycle::last_warnings()` to see where this warning was generated.\u001b[39m”\n",
      "Week 1 test (best model): 85% correct\n",
      "\n",
      "Week 1 augmented test: 84% correct\n",
      "\n",
      "Week 1 test (final model): 85% correct\n",
      "\n"
     ]
    }
   ],
   "source": [
    "# evaluate on test set\n",
    "model <- torch_load(\"model.pt\")\n",
    "model$to(device = device)\n",
    "\n",
    "model$eval()\n",
    "\n",
    "labels <- test_y %>%\n",
    "  as.matrix() %>%\n",
    "  as_tibble() %>%\n",
    "  set_names(\"label\")\n",
    "\n",
    "output <- model(test_x$to(device = device))\n",
    "\n",
    "predictions <- as.matrix(output$to(device = \"cpu\")) \n",
    "\n",
    "predictions <- predictions %>% \n",
    "  as_tibble() %>%\n",
    "  transform(prediction = max.col(predictions)) %>%\n",
    "  bind_cols(labels) %>%\n",
    "  mutate(correct = ifelse(prediction == label, 1, 0)) %>%\n",
    "  as_tibble() %>%\n",
    "  mutate(\n",
    "    label = as.factor(label),\n",
    "    prediction = as.factor(prediction)\n",
    "  )\n",
    "\n",
    "message(glue::glue(\"Week 1 test (best model): {round(100*mean(predictions$correct), 0)}% correct\"))\n",
    "\n",
    "# augmented preds\n",
    "test_data_augmented <- augment_data(test_x, c(4, 6, 9, 11, 13), c(2))\n",
    "output_augmented <- model(test_data_augmented$to(device = device))\n",
    "output <- (output + output_augmented) / 2\n",
    "\n",
    "predictions <- as.matrix(output$to(device = \"cpu\")) \n",
    "\n",
    "predictions <- predictions %>% \n",
    "  as_tibble() %>%\n",
    "  transform(prediction = max.col(predictions)) %>%\n",
    "  bind_cols(labels) %>%\n",
    "  mutate(correct = ifelse(prediction == label, 1, 0)) %>%\n",
    "  as_tibble() %>%\n",
    "  mutate(\n",
    "    label = as.factor(label),\n",
    "    prediction = as.factor(prediction)\n",
    "  )\n",
    "\n",
    "message(glue::glue(\"Week 1 augmented test: {round(100*mean(predictions$correct), 0)}% correct\"))\n",
    "\n",
    "\n",
    "# evaluate on test set\n",
    "model <- torch_load(\"final_model.pt\")\n",
    "model$to(device = device)\n",
    "\n",
    "model$eval()\n",
    "\n",
    "labels <- test_y %>%\n",
    "  as.matrix() %>%\n",
    "  as_tibble() %>%\n",
    "  set_names(\"label\")\n",
    "\n",
    "output <- model(test_x$to(device = device))\n",
    "\n",
    "predictions <- as.matrix(output$to(device = \"cpu\")) \n",
    "\n",
    "predictions <- predictions %>% \n",
    "  as_tibble() %>%\n",
    "  transform(prediction = max.col(predictions)) %>%\n",
    "  bind_cols(labels) %>%\n",
    "  mutate(correct = ifelse(prediction == label, 1, 0)) %>%\n",
    "  as_tibble() %>%\n",
    "  mutate(\n",
    "    label = as.factor(label),\n",
    "    prediction = as.factor(prediction)\n",
    "  )\n",
    "\n",
    "message(glue::glue(\"Week 1 test (final model): {round(100*mean(predictions$correct), 0)}% correct\"))\n"
   ]
  }
 ],
 "metadata": {
  "kernelspec": {
   "display_name": "R",
   "language": "R",
   "name": "ir"
  },
  "language_info": {
   "codemirror_mode": "r",
   "file_extension": ".r",
   "mimetype": "text/x-r-source",
   "name": "R",
   "pygments_lexer": "r",
   "version": "3.6.3"
  },
  "papermill": {
   "default_parameters": {},
   "duration": 1160.928683,
   "end_time": "2021-05-22T01:53:05.372552",
   "environment_variables": {},
   "exception": null,
   "input_path": "__notebook__.ipynb",
   "output_path": "__notebook__.ipynb",
   "parameters": {},
   "start_time": "2021-05-22T01:33:44.443869",
   "version": "2.3.3"
  }
 },
 "nbformat": 4,
 "nbformat_minor": 5
}
